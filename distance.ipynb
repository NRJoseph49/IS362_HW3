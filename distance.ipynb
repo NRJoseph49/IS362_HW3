{
 "cells": [
  {
   "cell_type": "code",
   "execution_count": 17,
   "metadata": {},
   "outputs": [
    {
     "name": "stdout",
     "output_type": "stream",
     "text": [
      "Distance for day 1 : 55\n",
      "Distance for day 2 : 65\n",
      "Distance for day 3 : 60\n",
      "Distance for day 4 : 40\n",
      "Distance for day 5 : 40\n"
     ]
    }
   ],
   "source": [
    "import pandas as pd\n",
    "#create series that holds the cumulative miles at the end of each day\n",
    "s=pd.Series([55,120,180,220,260])\n",
    "\n",
    "#show the total miles that you rode each day.\n",
    "for i in range(s.size):\n",
    "    distance = 0\n",
    "    if s.index[i] > 0:\n",
    "        distance=s[i]-s[i-1]\n",
    "    else:\n",
    "        distance=s[i]\n",
    "    print(\"Distance for day {} : {}\".format(s.index[i]+1,distance))\n",
    "    "
   ]
  },
  {
   "cell_type": "code",
   "execution_count": null,
   "metadata": {},
   "outputs": [],
   "source": []
  }
 ],
 "metadata": {
  "kernelspec": {
   "display_name": "Python 3",
   "language": "python",
   "name": "python3"
  },
  "language_info": {
   "codemirror_mode": {
    "name": "ipython",
    "version": 3
   },
   "file_extension": ".py",
   "mimetype": "text/x-python",
   "name": "python",
   "nbconvert_exporter": "python",
   "pygments_lexer": "ipython3",
   "version": "3.8.0"
  }
 },
 "nbformat": 4,
 "nbformat_minor": 4
}
